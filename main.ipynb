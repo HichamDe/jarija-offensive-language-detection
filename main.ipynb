{
 "cells": [
  {
   "cell_type": "code",
   "execution_count": 8,
   "metadata": {},
   "outputs": [
    {
     "name": "stdout",
     "output_type": "stream",
     "text": [
      "<Compressed Sparse Row sparse matrix of dtype 'float64'\n",
      "\twith 232002 stored elements and shape (20402, 50555)>\n",
      "  Coords\tValues\n",
      "  (0, 44906)\t0.14274737502382437\n",
      "  (0, 38877)\t0.12286626559673507\n",
      "  (0, 35145)\t0.18807845906842346\n",
      "  (0, 37204)\t0.2776909783161815\n",
      "  (0, 32327)\t0.09780404557634169\n",
      "  (0, 25812)\t0.2776909783161815\n",
      "  (0, 41646)\t0.09038918239458289\n",
      "  (0, 32940)\t0.2929209200854346\n",
      "  (0, 37083)\t0.2929209200854346\n",
      "  (0, 42496)\t0.2843438616771317\n",
      "  (0, 30412)\t0.21569374850051826\n",
      "  (0, 37345)\t0.2929209200854346\n",
      "  (0, 34220)\t0.18611485849801562\n",
      "  (0, 28294)\t0.2776909783161815\n",
      "  (0, 22756)\t0.2007634511161373\n",
      "  (0, 35813)\t0.2335178792516099\n",
      "  (0, 18967)\t0.0861375860102741\n",
      "  (0, 48975)\t0.20121864110798102\n",
      "  (0, 16170)\t0.14928753853279655\n",
      "  (0, 35734)\t0.1360686895276986\n",
      "  (0, 31667)\t0.2776909783161815\n",
      "  (1, 41646)\t0.10452136043851533\n",
      "  (1, 36460)\t0.12642753007339178\n",
      "  (1, 26194)\t0.5620138025245699\n",
      "  (1, 40535)\t0.35269728093033653\n",
      "  :\t:\n",
      "  (20400, 25556)\t0.17406729992020334\n",
      "  (20400, 36299)\t0.17406729992020334\n",
      "  (20400, 36141)\t0.17406729992020334\n",
      "  (20400, 24115)\t0.17406729992020334\n",
      "  (20401, 32327)\t0.08552682044833125\n",
      "  (20401, 34299)\t0.1367013655366772\n",
      "  (20401, 30225)\t0.15330252111430756\n",
      "  (20401, 23656)\t0.2222762557148482\n",
      "  (20401, 32902)\t0.1601933411500435\n",
      "  (20401, 28169)\t0.17440291705110883\n",
      "  (20401, 27571)\t0.16718746713028285\n",
      "  (20401, 18013)\t0.21250732167852815\n",
      "  (20401, 43257)\t0.1873459220671462\n",
      "  (20401, 22715)\t0.20193611499999398\n",
      "  (20401, 42860)\t0.22476116400691015\n",
      "  (20401, 19030)\t0.21092672844321939\n",
      "  (20401, 27575)\t0.2486505160388563\n",
      "  (20401, 22432)\t0.22476116400691015\n",
      "  (20401, 46374)\t0.2486505160388563\n",
      "  (20401, 40129)\t0.26672211321902034\n",
      "  (20401, 34322)\t0.26672211321902034\n",
      "  (20401, 46717)\t0.26672211321902034\n",
      "  (20401, 40432)\t0.26672211321902034\n",
      "  (20401, 28959)\t0.26672211321902034\n",
      "  (20401, 28723)\t0.26672211321902034\n",
      "Accuracy: 0.823082577799559\n",
      "Classification Report               precision    recall  f1-score   support\n",
      "\n",
      "           0       0.79      0.98      0.87      2561\n",
      "           1       0.94      0.56      0.70      1520\n",
      "\n",
      "    accuracy                           0.82      4081\n",
      "   macro avg       0.87      0.77      0.79      4081\n",
      "weighted avg       0.85      0.82      0.81      4081\n",
      "\n"
     ]
    }
   ],
   "source": [
    "import pandas as pd\n",
    "\n",
    "from sklearn.feature_extraction.text import TfidfVectorizer\n",
    "from sklearn.model_selection import train_test_split\n",
    "from sklearn.linear_model import LogisticRegression\n",
    "from sklearn.metrics import accuracy_score,classification_report\n",
    "\n",
    "# Load Data Set\n",
    "ds = pd.read_csv(\"./data_set.csv\")\n",
    "\n",
    "\n",
    "# Feature Engineering\n",
    "verctorier = TfidfVectorizer() # you use stop prameter to remove words with no meaning like : (this,at,where,us)\n",
    "vectorized_text = verctorier.fit_transform(ds.text)\n",
    "\n",
    "\n",
    "print(vectorized_text)\n",
    "# Data Set Spliting\n",
    "train_X , test_X , train_Y , test_Y = train_test_split(vectorized_text,ds.label , test_size=0.2,random_state=42)\n",
    "\n",
    "# Train Logistical Model\n",
    "model = LogisticRegression(max_iter=1000)\n",
    "model.fit(train_X,train_Y)\n",
    "\n",
    "# Prediction\n",
    "pre_Y = model.predict(test_X)\n",
    "\n",
    "\n",
    "print(f\"Accuracy: {accuracy_score(test_Y,pre_Y)}\")\n",
    "print(f\"Classification Report {classification_report(test_Y,pre_Y)}\")\n",
    "\n",
    "\n"
   ]
  },
  {
   "cell_type": "code",
   "execution_count": 9,
   "metadata": {},
   "outputs": [
    {
     "name": "stdout",
     "output_type": "stream",
     "text": [
      "Prediction: Normal\n"
     ]
    }
   ],
   "source": [
    "# My Own test \n",
    "\n",
    "vectorized_offensive_text = verctorier.transform([\"Hello how are you\"])\n",
    "offensive_text_prediction = model.predict(vectorized_offensive_text)\n",
    "\n",
    "print(f\"Prediction: {\"Offensive\" if offensive_text_prediction[0] else \"Normal\"}\")"
   ]
  }
 ],
 "metadata": {
  "kernelspec": {
   "display_name": "Python 3",
   "language": "python",
   "name": "python3"
  },
  "language_info": {
   "codemirror_mode": {
    "name": "ipython",
    "version": 3
   },
   "file_extension": ".py",
   "mimetype": "text/x-python",
   "name": "python",
   "nbconvert_exporter": "python",
   "pygments_lexer": "ipython3",
   "version": "3.13.1"
  }
 },
 "nbformat": 4,
 "nbformat_minor": 2
}
